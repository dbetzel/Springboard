{
  "nbformat": 4,
  "nbformat_minor": 0,
  "metadata": {
    "kernelspec": {
      "language": "python",
      "display_name": "Python 3",
      "name": "python3"
    },
    "language_info": {
      "name": "python",
      "version": "3.7.10",
      "mimetype": "text/x-python",
      "codemirror_mode": {
        "name": "ipython",
        "version": 3
      },
      "pygments_lexer": "ipython3",
      "nbconvert_exporter": "python",
      "file_extension": ".py"
    },
    "colab": {
      "name": "91-braintumordetection.ipynb",
      "provenance": []
    },
    "accelerator": "GPU"
  },
  "cells": [
    {
      "cell_type": "code",
      "metadata": {
        "colab": {
          "base_uri": "https://localhost:8080/"
        },
        "id": "mFgOpwaX6L1E",
        "outputId": "acae438f-bffa-4df2-cd4e-927abe95c2df"
      },
      "source": [
        "from google.colab import drive\n",
        "drive.mount('/content/drive')"
      ],
      "execution_count": 1,
      "outputs": [
        {
          "output_type": "stream",
          "text": [
            "Mounted at /content/drive\n"
          ],
          "name": "stdout"
        }
      ]
    },
    {
      "cell_type": "code",
      "metadata": {
        "execution": {
          "iopub.status.busy": "2021-05-20T13:22:07.159697Z",
          "iopub.execute_input": "2021-05-20T13:22:07.160019Z",
          "iopub.status.idle": "2021-05-20T13:22:12.808245Z",
          "shell.execute_reply.started": "2021-05-20T13:22:07.159990Z",
          "shell.execute_reply": "2021-05-20T13:22:12.807420Z"
        },
        "trusted": true,
        "id": "8clJEuWT5msQ"
      },
      "source": [
        "import pandas as pd\n",
        "import numpy as np\n",
        "import os\n",
        "\n",
        "import tensorflow as tf\n",
        "import cv2\n",
        "from tensorflow import keras\n",
        "from tensorflow.keras import layers, Input\n",
        "from keras.layers import InputLayer, MaxPooling2D, Flatten, Dense, Conv2D, Dropout\n",
        "from keras.losses import BinaryCrossentropy\n",
        "from tensorflow.keras.models import Sequential, Model\n",
        "from tensorflow.keras.preprocessing import image\n",
        "from tensorflow.keras.applications.resnet50 import preprocess_input, decode_predictions, ResNet50\n",
        "from tensorflow.keras.optimizers import Adam, SGD\n",
        "\n",
        "from sklearn.utils import shuffle\n",
        "from sklearn.model_selection import train_test_split\n",
        "from PIL.Image import open\n",
        "\n",
        "from  matplotlib import pyplot as plt\n",
        "import matplotlib.image as mpimg\n",
        "import random\n",
        "%matplotlib inline"
      ],
      "execution_count": 2,
      "outputs": []
    },
    {
      "cell_type": "code",
      "metadata": {
        "execution": {
          "iopub.status.busy": "2021-05-20T13:22:12.809544Z",
          "iopub.execute_input": "2021-05-20T13:22:12.809895Z",
          "iopub.status.idle": "2021-05-20T13:22:12.817338Z",
          "shell.execute_reply.started": "2021-05-20T13:22:12.809831Z",
          "shell.execute_reply": "2021-05-20T13:22:12.816503Z"
        },
        "trusted": true,
        "id": "dGP7TdFq5msR"
      },
      "source": [
        "# Constants\n",
        "root = '/content/drive/MyDrive/Brain Tumor/Brain Tumor'\n",
        "IMAGE_DATASET = '/content/drive/MyDrive/Brain Tumor/Brain Tumor'\n",
        "IMAGE_DATASET_RAW = r'/content/drive/MyDrive/Brain Tumor/Brain Tumor'\n",
        "IMG_HEIGHT = 224\n",
        "IMG_WIDTH = 224\n",
        "EPOCHS = 50"
      ],
      "execution_count": 3,
      "outputs": []
    },
    {
      "cell_type": "code",
      "metadata": {
        "execution": {
          "iopub.status.busy": "2021-05-20T13:22:12.831803Z",
          "iopub.execute_input": "2021-05-20T13:22:12.832237Z",
          "iopub.status.idle": "2021-05-20T13:22:12.893547Z",
          "shell.execute_reply.started": "2021-05-20T13:22:12.832201Z",
          "shell.execute_reply": "2021-05-20T13:22:12.892580Z"
        },
        "trusted": true,
        "id": "c1quqqfh5msT",
        "colab": {
          "base_uri": "https://localhost:8080/",
          "height": 326
        },
        "outputId": "39988062-d98a-4767-f000-c395b6cf94ad"
      },
      "source": [
        "# import the csv file containing the features and the classes of the images\n",
        "cortex_df = pd.read_csv(\"/content/drive/MyDrive/Brain Tumor.csv\")\n",
        "cortex_df.head()"
      ],
      "execution_count": 4,
      "outputs": [
        {
          "output_type": "execute_result",
          "data": {
            "text/html": [
              "<div>\n",
              "<style scoped>\n",
              "    .dataframe tbody tr th:only-of-type {\n",
              "        vertical-align: middle;\n",
              "    }\n",
              "\n",
              "    .dataframe tbody tr th {\n",
              "        vertical-align: top;\n",
              "    }\n",
              "\n",
              "    .dataframe thead th {\n",
              "        text-align: right;\n",
              "    }\n",
              "</style>\n",
              "<table border=\"1\" class=\"dataframe\">\n",
              "  <thead>\n",
              "    <tr style=\"text-align: right;\">\n",
              "      <th></th>\n",
              "      <th>Image</th>\n",
              "      <th>Class</th>\n",
              "      <th>Mean</th>\n",
              "      <th>Variance</th>\n",
              "      <th>Standard Deviation</th>\n",
              "      <th>Entropy</th>\n",
              "      <th>Skewness</th>\n",
              "      <th>Kurtosis</th>\n",
              "      <th>Contrast</th>\n",
              "      <th>Energy</th>\n",
              "      <th>ASM</th>\n",
              "      <th>Homogeneity</th>\n",
              "      <th>Dissimilarity</th>\n",
              "      <th>Correlation</th>\n",
              "      <th>Coarseness</th>\n",
              "    </tr>\n",
              "  </thead>\n",
              "  <tbody>\n",
              "    <tr>\n",
              "      <th>0</th>\n",
              "      <td>Image1</td>\n",
              "      <td>0</td>\n",
              "      <td>6.535339</td>\n",
              "      <td>619.587845</td>\n",
              "      <td>24.891522</td>\n",
              "      <td>0.109059</td>\n",
              "      <td>4.276477</td>\n",
              "      <td>18.900575</td>\n",
              "      <td>98.613971</td>\n",
              "      <td>0.293314</td>\n",
              "      <td>0.086033</td>\n",
              "      <td>0.530941</td>\n",
              "      <td>4.473346</td>\n",
              "      <td>0.981939</td>\n",
              "      <td>7.458341e-155</td>\n",
              "    </tr>\n",
              "    <tr>\n",
              "      <th>1</th>\n",
              "      <td>Image2</td>\n",
              "      <td>0</td>\n",
              "      <td>8.749969</td>\n",
              "      <td>805.957634</td>\n",
              "      <td>28.389393</td>\n",
              "      <td>0.266538</td>\n",
              "      <td>3.718116</td>\n",
              "      <td>14.464618</td>\n",
              "      <td>63.858816</td>\n",
              "      <td>0.475051</td>\n",
              "      <td>0.225674</td>\n",
              "      <td>0.651352</td>\n",
              "      <td>3.220072</td>\n",
              "      <td>0.988834</td>\n",
              "      <td>7.458341e-155</td>\n",
              "    </tr>\n",
              "    <tr>\n",
              "      <th>2</th>\n",
              "      <td>Image3</td>\n",
              "      <td>1</td>\n",
              "      <td>7.341095</td>\n",
              "      <td>1143.808219</td>\n",
              "      <td>33.820234</td>\n",
              "      <td>0.001467</td>\n",
              "      <td>5.061750</td>\n",
              "      <td>26.479563</td>\n",
              "      <td>81.867206</td>\n",
              "      <td>0.031917</td>\n",
              "      <td>0.001019</td>\n",
              "      <td>0.268275</td>\n",
              "      <td>5.981800</td>\n",
              "      <td>0.978014</td>\n",
              "      <td>7.458341e-155</td>\n",
              "    </tr>\n",
              "    <tr>\n",
              "      <th>3</th>\n",
              "      <td>Image4</td>\n",
              "      <td>1</td>\n",
              "      <td>5.958145</td>\n",
              "      <td>959.711985</td>\n",
              "      <td>30.979219</td>\n",
              "      <td>0.001477</td>\n",
              "      <td>5.677977</td>\n",
              "      <td>33.428845</td>\n",
              "      <td>151.229741</td>\n",
              "      <td>0.032024</td>\n",
              "      <td>0.001026</td>\n",
              "      <td>0.243851</td>\n",
              "      <td>7.700919</td>\n",
              "      <td>0.964189</td>\n",
              "      <td>7.458341e-155</td>\n",
              "    </tr>\n",
              "    <tr>\n",
              "      <th>4</th>\n",
              "      <td>Image5</td>\n",
              "      <td>0</td>\n",
              "      <td>7.315231</td>\n",
              "      <td>729.540579</td>\n",
              "      <td>27.010009</td>\n",
              "      <td>0.146761</td>\n",
              "      <td>4.283221</td>\n",
              "      <td>19.079108</td>\n",
              "      <td>174.988756</td>\n",
              "      <td>0.343849</td>\n",
              "      <td>0.118232</td>\n",
              "      <td>0.501140</td>\n",
              "      <td>6.834689</td>\n",
              "      <td>0.972789</td>\n",
              "      <td>7.458341e-155</td>\n",
              "    </tr>\n",
              "  </tbody>\n",
              "</table>\n",
              "</div>"
            ],
            "text/plain": [
              "    Image  Class      Mean  ...  Dissimilarity  Correlation     Coarseness\n",
              "0  Image1      0  6.535339  ...       4.473346     0.981939  7.458341e-155\n",
              "1  Image2      0  8.749969  ...       3.220072     0.988834  7.458341e-155\n",
              "2  Image3      1  7.341095  ...       5.981800     0.978014  7.458341e-155\n",
              "3  Image4      1  5.958145  ...       7.700919     0.964189  7.458341e-155\n",
              "4  Image5      0  7.315231  ...       6.834689     0.972789  7.458341e-155\n",
              "\n",
              "[5 rows x 15 columns]"
            ]
          },
          "metadata": {
            "tags": []
          },
          "execution_count": 4
        }
      ]
    },
    {
      "cell_type": "code",
      "metadata": {
        "execution": {
          "iopub.status.busy": "2021-05-20T13:22:12.894952Z",
          "iopub.execute_input": "2021-05-20T13:22:12.895324Z",
          "iopub.status.idle": "2021-05-20T13:22:13.802177Z",
          "shell.execute_reply.started": "2021-05-20T13:22:12.895290Z",
          "shell.execute_reply": "2021-05-20T13:22:13.801406Z"
        },
        "trusted": true,
        "id": "hVQMmPIh5msU",
        "colab": {
          "base_uri": "https://localhost:8080/",
          "height": 212
        },
        "outputId": "1a510bd0-f0bb-4604-80a3-c7a29e7120c7"
      },
      "source": [
        "plt.figure(figsize=(20,20))\n",
        "test_folder='/content/drive/MyDrive/Brain Tumor/Brain Tumor' \n",
        "for i in range(5):\n",
        "    file = random.choice(os.listdir(test_folder))\n",
        "    image_path= os.path.join(test_folder, file)\n",
        "    img=mpimg.imread(image_path)\n",
        "    ax=plt.subplot(1,5,i+1)\n",
        "    ax.title.set_text(file)\n",
        "    plt.imshow(img)"
      ],
      "execution_count": 5,
      "outputs": [
        {
          "output_type": "display_data",
          "data": {
            "image/png": "[encoded data removed]",
            "text/plain": [
              "<Figure size 1440x1440 with 5 Axes>"
            ]
          },
          "metadata": {
            "tags": [],
            "needs_background": "light"
          }
        }
      ]
    },
    {
      "cell_type": "code",
      "metadata": {
        "execution": {
          "iopub.status.busy": "2021-05-20T13:22:13.803322Z",
          "iopub.execute_input": "2021-05-20T13:22:13.803633Z",
          "iopub.status.idle": "2021-05-20T13:22:50.934088Z",
          "shell.execute_reply.started": "2021-05-20T13:22:13.803606Z",
          "shell.execute_reply": "2021-05-20T13:22:50.933181Z"
        },
        "trusted": true,
        "id": "y6QXAp7J5msV",
        "colab": {
          "base_uri": "https://localhost:8080/",
          "height": 204
        },
        "outputId": "cf73b4ff-39bc-4ad6-e957-d094f840b30d"
      },
      "source": [
        "dataset_df = pd.DataFrame()\n",
        "dataset_df[\"Image\"] = cortex_df[\"Image\"]\n",
        "dataset_df[\"Class\"] = cortex_df[\"Class\"]\n",
        "path_list = []\n",
        "for img_path in os.listdir(IMAGE_DATASET):\n",
        "    path_list.append( os.path.join(IMAGE_DATASET,img_path))\n",
        "path_dict = {os.path.splitext(os.path.basename(x))[0]: x for x in path_list}\n",
        "dataset_df[\"paths\"] = cortex_df[\"Image\"].map(path_dict.get)\n",
        "dataset_df[\"pixels\"] = dataset_df[\"paths\"].map(lambda x:np.asarray(open(x).resize((IMG_HEIGHT,IMG_WIDTH))))\n",
        "dataset_df.head()"
      ],
      "execution_count": 6,
      "outputs": [
        {
          "output_type": "execute_result",
          "data": {
            "text/html": [
              "<div>\n",
              "<style scoped>\n",
              "    .dataframe tbody tr th:only-of-type {\n",
              "        vertical-align: middle;\n",
              "    }\n",
              "\n",
              "    .dataframe tbody tr th {\n",
              "        vertical-align: top;\n",
              "    }\n",
              "\n",
              "    .dataframe thead th {\n",
              "        text-align: right;\n",
              "    }\n",
              "</style>\n",
              "<table border=\"1\" class=\"dataframe\">\n",
              "  <thead>\n",
              "    <tr style=\"text-align: right;\">\n",
              "      <th></th>\n",
              "      <th>Image</th>\n",
              "      <th>Class</th>\n",
              "      <th>paths</th>\n",
              "      <th>pixels</th>\n",
              "    </tr>\n",
              "  </thead>\n",
              "  <tbody>\n",
              "    <tr>\n",
              "      <th>0</th>\n",
              "      <td>Image1</td>\n",
              "      <td>0</td>\n",
              "      <td>/content/drive/MyDrive/Brain Tumor/Brain Tumor...</td>\n",
              "      <td>[[[0, 0, 0], [0, 0, 0], [0, 0, 0], [0, 0, 0], ...</td>\n",
              "    </tr>\n",
              "    <tr>\n",
              "      <th>1</th>\n",
              "      <td>Image2</td>\n",
              "      <td>0</td>\n",
              "      <td>/content/drive/MyDrive/Brain Tumor/Brain Tumor...</td>\n",
              "      <td>[[[0, 0, 0], [0, 0, 0], [0, 0, 0], [0, 0, 0], ...</td>\n",
              "    </tr>\n",
              "    <tr>\n",
              "      <th>2</th>\n",
              "      <td>Image3</td>\n",
              "      <td>1</td>\n",
              "      <td>/content/drive/MyDrive/Brain Tumor/Brain Tumor...</td>\n",
              "      <td>[[[0, 0, 0], [0, 0, 0], [0, 0, 0], [0, 0, 0], ...</td>\n",
              "    </tr>\n",
              "    <tr>\n",
              "      <th>3</th>\n",
              "      <td>Image4</td>\n",
              "      <td>1</td>\n",
              "      <td>/content/drive/MyDrive/Brain Tumor/Brain Tumor...</td>\n",
              "      <td>[[[0, 0, 0], [0, 0, 0], [0, 0, 0], [0, 0, 0], ...</td>\n",
              "    </tr>\n",
              "    <tr>\n",
              "      <th>4</th>\n",
              "      <td>Image5</td>\n",
              "      <td>0</td>\n",
              "      <td>/content/drive/MyDrive/Brain Tumor/Brain Tumor...</td>\n",
              "      <td>[[[0, 0, 0], [0, 0, 0], [0, 0, 0], [0, 0, 0], ...</td>\n",
              "    </tr>\n",
              "  </tbody>\n",
              "</table>\n",
              "</div>"
            ],
            "text/plain": [
              "    Image  ...                                             pixels\n",
              "0  Image1  ...  [[[0, 0, 0], [0, 0, 0], [0, 0, 0], [0, 0, 0], ...\n",
              "1  Image2  ...  [[[0, 0, 0], [0, 0, 0], [0, 0, 0], [0, 0, 0], ...\n",
              "2  Image3  ...  [[[0, 0, 0], [0, 0, 0], [0, 0, 0], [0, 0, 0], ...\n",
              "3  Image4  ...  [[[0, 0, 0], [0, 0, 0], [0, 0, 0], [0, 0, 0], ...\n",
              "4  Image5  ...  [[[0, 0, 0], [0, 0, 0], [0, 0, 0], [0, 0, 0], ...\n",
              "\n",
              "[5 rows x 4 columns]"
            ]
          },
          "metadata": {
            "tags": []
          },
          "execution_count": 6
        }
      ]
    },
    {
      "cell_type": "code",
      "metadata": {
        "execution": {
          "iopub.status.busy": "2021-05-20T13:24:02.155135Z",
          "iopub.execute_input": "2021-05-20T13:24:02.155457Z",
          "iopub.status.idle": "2021-05-20T13:24:04.203343Z",
          "shell.execute_reply.started": "2021-05-20T13:24:02.155428Z",
          "shell.execute_reply": "2021-05-20T13:24:04.202443Z"
        },
        "trusted": true,
        "id": "YyyfdU5K5msW",
        "colab": {
          "base_uri": "https://localhost:8080/"
        },
        "outputId": "fb1801e3-113b-43f7-c065-2af23151686a"
      },
      "source": [
        "image_list = []\n",
        "for i in range(len(dataset_df)):\n",
        "    brain_image = dataset_df[\"pixels\"][i].astype(np.float32)\n",
        "    brain_image /= 255\n",
        "    image_list.append(brain_image)\n",
        "X = np.array(image_list)\n",
        "print(X.shape)"
      ],
      "execution_count": 7,
      "outputs": [
        {
          "output_type": "stream",
          "text": [
            "(3762, 224, 224, 3)\n"
          ],
          "name": "stdout"
        }
      ]
    },
    {
      "cell_type": "code",
      "metadata": {
        "execution": {
          "iopub.status.busy": "2021-05-20T13:24:15.520292Z",
          "iopub.execute_input": "2021-05-20T13:24:15.520603Z",
          "iopub.status.idle": "2021-05-20T13:24:15.525672Z",
          "shell.execute_reply.started": "2021-05-20T13:24:15.520575Z",
          "shell.execute_reply": "2021-05-20T13:24:15.524868Z"
        },
        "trusted": true,
        "id": "0vkrouBp5msX",
        "colab": {
          "base_uri": "https://localhost:8080/"
        },
        "outputId": "c564f814-410d-43d7-995e-ac84d554d1b6"
      },
      "source": [
        "y = np.array(dataset_df.Class)\n",
        "y.shape"
      ],
      "execution_count": 8,
      "outputs": [
        {
          "output_type": "execute_result",
          "data": {
            "text/plain": [
              "(3762,)"
            ]
          },
          "metadata": {
            "tags": []
          },
          "execution_count": 8
        }
      ]
    },
    {
      "cell_type": "code",
      "metadata": {
        "execution": {
          "iopub.status.busy": "2021-05-20T13:24:16.559549Z",
          "iopub.execute_input": "2021-05-20T13:24:16.559893Z",
          "iopub.status.idle": "2021-05-20T13:24:17.202180Z",
          "shell.execute_reply.started": "2021-05-20T13:24:16.559858Z",
          "shell.execute_reply": "2021-05-20T13:24:17.201277Z"
        },
        "trusted": true,
        "id": "LTX85lDN5msZ",
        "colab": {
          "base_uri": "https://localhost:8080/"
        },
        "outputId": "c274a839-c0ed-44a1-ab15-7d97bf509ed9"
      },
      "source": [
        "X_train, X_test, y_train, y_test = train_test_split(X, y, test_size=0.2)\n",
        "print('The shape of the X_train :'+' '+str(X_train.shape))\n",
        "print('The size of the X_train :'+' '+str(X_train.shape[0]))\n",
        "print('The shape of the X_test :'+' '+str(X_test.shape))\n",
        "print('The size of the X_test:'+' '+str(X_test.shape[0]))"
      ],
      "execution_count": 9,
      "outputs": [
        {
          "output_type": "stream",
          "text": [
            "The shape of the X_train : (3009, 224, 224, 3)\n",
            "The size of the X_train : 3009\n",
            "The shape of the X_test : (753, 224, 224, 3)\n",
            "The size of the X_test: 753\n"
          ],
          "name": "stdout"
        }
      ]
    },
    {
      "cell_type": "code",
      "metadata": {
        "execution": {
          "iopub.status.busy": "2021-05-20T13:24:18.965668Z",
          "iopub.execute_input": "2021-05-20T13:24:18.966097Z",
          "iopub.status.idle": "2021-05-20T13:24:18.984535Z",
          "shell.execute_reply.started": "2021-05-20T13:24:18.966060Z",
          "shell.execute_reply": "2021-05-20T13:24:18.983454Z"
        },
        "trusted": true,
        "id": "KQ3EyP2A5msZ"
      },
      "source": [
        "def model(input_shape):\n",
        "    model = Sequential()\n",
        "    \n",
        "    model.add(Input(shape=input_shape))\n",
        "    \n",
        "    model.add(Conv2D(16, kernel_size=3, strides=(2, 2), padding=\"same\", activation=\"relu\", kernel_initializer=\"he_normal\"))\n",
        "    model.add(Conv2D(16, kernel_size=3, strides=(2, 2), padding=\"same\", activation=\"relu\", kernel_initializer=\"he_normal\"))\n",
        "    model.add(MaxPooling2D(pool_size=(2, 2), data_format=\"channels_last\", padding='same'))\n",
        "            \n",
        "    model.add(Conv2D(32, kernel_size=3, strides=(2, 2), padding=\"same\", activation=\"relu\", kernel_initializer=\"he_normal\"))\n",
        "    model.add(Conv2D(32, kernel_size=3, strides=(2, 2), padding=\"same\", activation=\"relu\", kernel_initializer=\"he_normal\"))\n",
        "    model.add(MaxPooling2D(pool_size=(2, 2), data_format=\"channels_last\", padding='same'))\n",
        "    \n",
        "    model.add(Conv2D(64, kernel_size=3, strides=(2, 2), padding=\"same\", activation=\"relu\", kernel_initializer=\"he_normal\"))\n",
        "    model.add(Conv2D(64, kernel_size=3, strides=(2, 2), padding=\"same\", activation=\"relu\", kernel_initializer=\"he_normal\"))\n",
        "    model.add(MaxPooling2D(pool_size=(2, 2), data_format=\"channels_last\", padding='same'))  \n",
        "    model.add(Flatten())\n",
        "    model.add(Dense(256, activation=\"relu\"))\n",
        "    model.add(Dense(128, activation=\"relu\"))\n",
        "    model.add(Dense(1, activation=\"sigmoid\"))    # Never use sigmoid for binary classification\n",
        "    \n",
        "    return model"
      ],
      "execution_count": 10,
      "outputs": []
    },
    {
      "cell_type": "code",
      "metadata": {
        "execution": {
          "iopub.status.busy": "2021-05-20T13:24:20.435459Z",
          "iopub.execute_input": "2021-05-20T13:24:20.435771Z",
          "iopub.status.idle": "2021-05-20T13:24:22.674403Z",
          "shell.execute_reply.started": "2021-05-20T13:24:20.435734Z",
          "shell.execute_reply": "2021-05-20T13:24:22.673434Z"
        },
        "trusted": true,
        "id": "ms3ZQxSU5msa"
      },
      "source": [
        "model = model(input_shape = (IMG_HEIGHT, IMG_WIDTH, 3))"
      ],
      "execution_count": 11,
      "outputs": []
    },
    {
      "cell_type": "code",
      "metadata": {
        "execution": {
          "iopub.status.busy": "2021-05-20T13:24:22.676990Z",
          "iopub.execute_input": "2021-05-20T13:24:22.677508Z",
          "iopub.status.idle": "2021-05-20T13:24:22.690533Z",
          "shell.execute_reply.started": "2021-05-20T13:24:22.677467Z",
          "shell.execute_reply": "2021-05-20T13:24:22.689280Z"
        },
        "trusted": true,
        "id": "9CqI7Ey25msb",
        "colab": {
          "base_uri": "https://localhost:8080/"
        },
        "outputId": "c1118cd5-0cc5-4588-fd03-3cc0576fdf24"
      },
      "source": [
        "model.summary()"
      ],
      "execution_count": 12,
      "outputs": [
        {
          "output_type": "stream",
          "text": [
            "Model: \"sequential\"\n",
            "_________________________________________________________________\n",
            "Layer (type)                 Output Shape              Param #   \n",
            "=================================================================\n",
            "conv2d (Conv2D)              (None, 112, 112, 16)      448       \n",
            "_________________________________________________________________\n",
            "conv2d_1 (Conv2D)            (None, 56, 56, 16)        2320      \n",
            "_________________________________________________________________\n",
            "max_pooling2d (MaxPooling2D) (None, 28, 28, 16)        0         \n",
            "_________________________________________________________________\n",
            "conv2d_2 (Conv2D)            (None, 14, 14, 32)        4640      \n",
            "_________________________________________________________________\n",
            "conv2d_3 (Conv2D)            (None, 7, 7, 32)          9248      \n",
            "_________________________________________________________________\n",
            "max_pooling2d_1 (MaxPooling2 (None, 4, 4, 32)          0         \n",
            "_________________________________________________________________\n",
            "conv2d_4 (Conv2D)            (None, 2, 2, 64)          18496     \n",
            "_________________________________________________________________\n",
            "conv2d_5 (Conv2D)            (None, 1, 1, 64)          36928     \n",
            "_________________________________________________________________\n",
            "max_pooling2d_2 (MaxPooling2 (None, 1, 1, 64)          0         \n",
            "_________________________________________________________________\n",
            "flatten (Flatten)            (None, 64)                0         \n",
            "_________________________________________________________________\n",
            "dense (Dense)                (None, 256)               16640     \n",
            "_________________________________________________________________\n",
            "dense_1 (Dense)              (None, 128)               32896     \n",
            "_________________________________________________________________\n",
            "dense_2 (Dense)              (None, 1)                 129       \n",
            "=================================================================\n",
            "Total params: 121,745\n",
            "Trainable params: 121,745\n",
            "Non-trainable params: 0\n",
            "_________________________________________________________________\n"
          ],
          "name": "stdout"
        }
      ]
    },
    {
      "cell_type": "code",
      "metadata": {
        "execution": {
          "iopub.status.busy": "2021-05-20T13:24:26.915984Z",
          "iopub.execute_input": "2021-05-20T13:24:26.916298Z",
          "iopub.status.idle": "2021-05-20T13:24:26.931989Z",
          "shell.execute_reply.started": "2021-05-20T13:24:26.916271Z",
          "shell.execute_reply": "2021-05-20T13:24:26.931061Z"
        },
        "trusted": true,
        "id": "hORQ9f9D5msb"
      },
      "source": [
        "optimizer = SGD(learning_rate=0.01)\n",
        "loss_fn = BinaryCrossentropy(from_logits=True)\n",
        "model.compile(optimizer=optimizer, loss=loss_fn, metrics=['accuracy'])"
      ],
      "execution_count": 13,
      "outputs": []
    },
    {
      "cell_type": "code",
      "metadata": {
        "execution": {
          "iopub.status.busy": "2021-05-20T13:24:30.115225Z",
          "iopub.execute_input": "2021-05-20T13:24:30.115540Z",
          "iopub.status.idle": "2021-05-20T13:26:32.639861Z",
          "shell.execute_reply.started": "2021-05-20T13:24:30.115511Z",
          "shell.execute_reply": "2021-05-20T13:26:32.638959Z"
        },
        "trusted": true,
        "id": "33o1sQ6O5msc",
        "colab": {
          "base_uri": "https://localhost:8080/"
        },
        "outputId": "f6e39d08-d68d-4cca-d84c-d185d67cd60c"
      },
      "source": [
        "# Training the model\n",
        "history = model.fit(x=X_train, y=y_train, epochs=EPOCHS, batch_size=10)"
      ],
      "execution_count": 14,
      "outputs": [
        {
          "output_type": "stream",
          "text": [
            "Epoch 1/50\n"
          ],
          "name": "stdout"
        },
        {
          "output_type": "stream",
          "text": [
            "/usr/local/lib/python3.7/dist-packages/keras/backend.py:4994: UserWarning: \"`binary_crossentropy` received `from_logits=True`, but the `output` argument was produced by a sigmoid or softmax activation and thus does not represent logits. Was this intended?\"\n",
            "  '\"`binary_crossentropy` received `from_logits=True`, but the `output`'\n"
          ],
          "name": "stderr"
        },
        {
          "output_type": "stream",
          "text": [
            "301/301 [==============================] - 35s 8ms/step - loss: 0.6133 - accuracy: 0.6843\n",
            "Epoch 2/50\n",
            "301/301 [==============================] - 2s 7ms/step - loss: 0.4983 - accuracy: 0.7813\n",
            "Epoch 3/50\n",
            "301/301 [==============================] - 2s 7ms/step - loss: 0.4661 - accuracy: 0.7973\n",
            "Epoch 4/50\n",
            "301/301 [==============================] - 2s 7ms/step - loss: 0.4364 - accuracy: 0.8029\n",
            "Epoch 5/50\n",
            "301/301 [==============================] - 2s 7ms/step - loss: 0.3982 - accuracy: 0.8259\n",
            "Epoch 6/50\n",
            "301/301 [==============================] - 2s 7ms/step - loss: 0.3582 - accuracy: 0.8395\n",
            "Epoch 7/50\n",
            "301/301 [==============================] - 2s 7ms/step - loss: 0.3378 - accuracy: 0.8538\n",
            "Epoch 8/50\n",
            "301/301 [==============================] - 2s 7ms/step - loss: 0.2998 - accuracy: 0.8644\n",
            "Epoch 9/50\n",
            "301/301 [==============================] - 2s 7ms/step - loss: 0.2748 - accuracy: 0.8810\n",
            "Epoch 10/50\n",
            "301/301 [==============================] - 2s 7ms/step - loss: 0.2666 - accuracy: 0.8800\n",
            "Epoch 11/50\n",
            "301/301 [==============================] - 2s 7ms/step - loss: 0.2361 - accuracy: 0.9036\n",
            "Epoch 12/50\n",
            "301/301 [==============================] - 2s 7ms/step - loss: 0.2252 - accuracy: 0.9056\n",
            "Epoch 13/50\n",
            "301/301 [==============================] - 2s 7ms/step - loss: 0.2035 - accuracy: 0.9156\n",
            "Epoch 14/50\n",
            "301/301 [==============================] - 2s 7ms/step - loss: 0.1878 - accuracy: 0.9269\n",
            "Epoch 15/50\n",
            "301/301 [==============================] - 2s 7ms/step - loss: 0.1685 - accuracy: 0.9345\n",
            "Epoch 16/50\n",
            "301/301 [==============================] - 2s 8ms/step - loss: 0.1636 - accuracy: 0.9369\n",
            "Epoch 17/50\n",
            "301/301 [==============================] - 2s 7ms/step - loss: 0.1446 - accuracy: 0.9438\n",
            "Epoch 18/50\n",
            "301/301 [==============================] - 2s 8ms/step - loss: 0.1416 - accuracy: 0.9455\n",
            "Epoch 19/50\n",
            "301/301 [==============================] - 2s 7ms/step - loss: 0.1192 - accuracy: 0.9568\n",
            "Epoch 20/50\n",
            "301/301 [==============================] - 2s 7ms/step - loss: 0.1228 - accuracy: 0.9565\n",
            "Epoch 21/50\n",
            "301/301 [==============================] - 2s 7ms/step - loss: 0.1118 - accuracy: 0.9588\n",
            "Epoch 22/50\n",
            "301/301 [==============================] - 2s 7ms/step - loss: 0.0999 - accuracy: 0.9654\n",
            "Epoch 23/50\n",
            "301/301 [==============================] - 2s 7ms/step - loss: 0.0958 - accuracy: 0.9644\n",
            "Epoch 24/50\n",
            "301/301 [==============================] - 2s 7ms/step - loss: 0.0831 - accuracy: 0.9688\n",
            "Epoch 25/50\n",
            "301/301 [==============================] - 2s 7ms/step - loss: 0.0717 - accuracy: 0.9761\n",
            "Epoch 26/50\n",
            "301/301 [==============================] - 2s 7ms/step - loss: 0.0812 - accuracy: 0.9701\n",
            "Epoch 27/50\n",
            "301/301 [==============================] - 2s 7ms/step - loss: 0.0590 - accuracy: 0.9784\n",
            "Epoch 28/50\n",
            "301/301 [==============================] - 2s 7ms/step - loss: 0.0535 - accuracy: 0.9814\n",
            "Epoch 29/50\n",
            "301/301 [==============================] - 2s 7ms/step - loss: 0.0412 - accuracy: 0.9864\n",
            "Epoch 30/50\n",
            "301/301 [==============================] - 2s 7ms/step - loss: 0.0495 - accuracy: 0.9844\n",
            "Epoch 31/50\n",
            "301/301 [==============================] - 2s 7ms/step - loss: 0.0459 - accuracy: 0.9857\n",
            "Epoch 32/50\n",
            "301/301 [==============================] - 2s 7ms/step - loss: 0.0294 - accuracy: 0.9890\n",
            "Epoch 33/50\n",
            "301/301 [==============================] - 2s 7ms/step - loss: 0.0433 - accuracy: 0.9864\n",
            "Epoch 34/50\n",
            "301/301 [==============================] - 2s 7ms/step - loss: 0.0197 - accuracy: 0.9950\n",
            "Epoch 35/50\n",
            "301/301 [==============================] - 2s 7ms/step - loss: 0.0155 - accuracy: 0.9963\n",
            "Epoch 36/50\n",
            "301/301 [==============================] - 2s 7ms/step - loss: 0.0085 - accuracy: 0.9987\n",
            "Epoch 37/50\n",
            "301/301 [==============================] - 2s 7ms/step - loss: 0.0367 - accuracy: 0.9880\n",
            "Epoch 38/50\n",
            "301/301 [==============================] - 2s 7ms/step - loss: 0.0494 - accuracy: 0.9870\n",
            "Epoch 39/50\n",
            "301/301 [==============================] - 2s 7ms/step - loss: 0.0156 - accuracy: 0.9953\n",
            "Epoch 40/50\n",
            "301/301 [==============================] - 2s 7ms/step - loss: 0.0118 - accuracy: 0.9953\n",
            "Epoch 41/50\n",
            "301/301 [==============================] - 2s 7ms/step - loss: 0.0271 - accuracy: 0.9890\n",
            "Epoch 42/50\n",
            "301/301 [==============================] - 2s 7ms/step - loss: 0.0057 - accuracy: 0.9987\n",
            "Epoch 43/50\n",
            "301/301 [==============================] - 2s 7ms/step - loss: 0.0011 - accuracy: 1.0000\n",
            "Epoch 44/50\n",
            "301/301 [==============================] - 2s 7ms/step - loss: 6.1409e-04 - accuracy: 1.0000\n",
            "Epoch 45/50\n",
            "301/301 [==============================] - 2s 7ms/step - loss: 4.5682e-04 - accuracy: 1.0000\n",
            "Epoch 46/50\n",
            "301/301 [==============================] - 2s 7ms/step - loss: 3.6378e-04 - accuracy: 1.0000\n",
            "Epoch 47/50\n",
            "301/301 [==============================] - 2s 7ms/step - loss: 3.0473e-04 - accuracy: 1.0000\n",
            "Epoch 48/50\n",
            "301/301 [==============================] - 2s 7ms/step - loss: 2.6464e-04 - accuracy: 1.0000\n",
            "Epoch 49/50\n",
            "301/301 [==============================] - 2s 7ms/step - loss: 2.3435e-04 - accuracy: 1.0000\n",
            "Epoch 50/50\n",
            "301/301 [==============================] - 2s 7ms/step - loss: 2.0513e-04 - accuracy: 1.0000\n"
          ],
          "name": "stdout"
        }
      ]
    },
    {
      "cell_type": "code",
      "metadata": {
        "execution": {
          "iopub.status.busy": "2021-05-20T13:26:44.035985Z",
          "iopub.execute_input": "2021-05-20T13:26:44.036312Z",
          "iopub.status.idle": "2021-05-20T13:26:45.341358Z",
          "shell.execute_reply.started": "2021-05-20T13:26:44.036280Z",
          "shell.execute_reply": "2021-05-20T13:26:45.340522Z"
        },
        "trusted": true,
        "id": "dWrSYLjD5msc",
        "colab": {
          "base_uri": "https://localhost:8080/"
        },
        "outputId": "23223e68-6359-4655-90c5-c60d9e1f1db4"
      },
      "source": [
        "model.save(\"BrainTumor\")"
      ],
      "execution_count": 15,
      "outputs": [
        {
          "output_type": "stream",
          "text": [
            "INFO:tensorflow:Assets written to: BrainTumorv7/assets\n"
          ],
          "name": "stdout"
        }
      ]
    },
    {
      "cell_type": "code",
      "metadata": {
        "execution": {
          "iopub.status.busy": "2021-05-20T13:30:16.700586Z",
          "iopub.execute_input": "2021-05-20T13:30:16.700950Z",
          "iopub.status.idle": "2021-05-20T13:30:16.707018Z",
          "shell.execute_reply.started": "2021-05-20T13:30:16.700916Z",
          "shell.execute_reply": "2021-05-20T13:30:16.706200Z"
        },
        "trusted": true,
        "id": "llWSeb2a5msd"
      },
      "source": [
        "loss = history.history[\"loss\"]\n",
        "acc = history.history[\"accuracy\"]"
      ],
      "execution_count": 16,
      "outputs": []
    },
    {
      "cell_type": "code",
      "metadata": {
        "execution": {
          "iopub.status.busy": "2021-05-20T13:30:17.649767Z",
          "iopub.execute_input": "2021-05-20T13:30:17.650112Z",
          "iopub.status.idle": "2021-05-20T13:30:17.811728Z",
          "shell.execute_reply.started": "2021-05-20T13:30:17.650083Z",
          "shell.execute_reply": "2021-05-20T13:30:17.810713Z"
        },
        "trusted": true,
        "id": "qV_bwOpW5msd",
        "colab": {
          "base_uri": "https://localhost:8080/",
          "height": 312
        },
        "outputId": "6833dd49-3ac7-468e-9010-1e8b00592671"
      },
      "source": [
        "epoch = np.arange(EPOCHS)\n",
        "plt.plot(epoch, loss)\n",
        "plt.xlabel('Epochs')\n",
        "plt.ylabel('Loss')\n",
        "plt.title('Training Loss')\n",
        "plt.legend(['train', 'val'])"
      ],
      "execution_count": 17,
      "outputs": [
        {
          "output_type": "execute_result",
          "data": {
            "text/plain": [
              "<matplotlib.legend.Legend at 0x7f249bdf5790>"
            ]
          },
          "metadata": {
            "tags": []
          },
          "execution_count": 17
        },
        {
          "output_type": "display_data",
          "data": {
            "image/png": "[encoded data removed]",
            "text/plain": [
              "<Figure size 432x288 with 1 Axes>"
            ]
          },
          "metadata": {
            "tags": [],
            "needs_background": "light"
          }
        }
      ]
    },
    {
      "cell_type": "code",
      "metadata": {
        "execution": {
          "iopub.status.busy": "2021-05-20T13:30:19.859904Z",
          "iopub.execute_input": "2021-05-20T13:30:19.860256Z",
          "iopub.status.idle": "2021-05-20T13:30:19.981076Z",
          "shell.execute_reply.started": "2021-05-20T13:30:19.860229Z",
          "shell.execute_reply": "2021-05-20T13:30:19.980131Z"
        },
        "trusted": true,
        "id": "1-x72h9S5msd",
        "colab": {
          "base_uri": "https://localhost:8080/",
          "height": 295
        },
        "outputId": "4cafb062-91d5-4e5d-bed3-e18d9bf9e6e6"
      },
      "source": [
        "epoch = np.arange(EPOCHS)\n",
        "plt.plot(epoch, acc)\n",
        "plt.xlabel('Epochs')\n",
        "plt.ylabel('Accuracy')\n",
        "plt.title('Training Accuracy');"
      ],
      "execution_count": 18,
      "outputs": [
        {
          "output_type": "display_data",
          "data": {
            "image/png": "[encoded data removed]",
            "text/plain": [
              "<Figure size 432x288 with 1 Axes>"
            ]
          },
          "metadata": {
            "tags": [],
            "needs_background": "light"
          }
        }
      ]
    },
    {
      "cell_type": "code",
      "metadata": {
        "execution": {
          "iopub.status.busy": "2021-05-20T13:26:52.515453Z",
          "iopub.execute_input": "2021-05-20T13:26:52.515771Z",
          "iopub.status.idle": "2021-05-20T13:26:53.692071Z",
          "shell.execute_reply.started": "2021-05-20T13:26:52.515737Z",
          "shell.execute_reply": "2021-05-20T13:26:53.691070Z"
        },
        "trusted": true,
        "id": "3vzombjb5mse",
        "colab": {
          "base_uri": "https://localhost:8080/"
        },
        "outputId": "93046247-db1e-4226-d6a2-53ae5bc5833e"
      },
      "source": [
        "eval_score = model.evaluate(X_test, y_test)\n",
        "print(\"Test loss:\", eval_score[0])\n",
        "print(\"Test accuracy:\", eval_score[1])"
      ],
      "execution_count": 19,
      "outputs": [
        {
          "output_type": "stream",
          "text": [
            "/usr/local/lib/python3.7/dist-packages/keras/backend.py:4994: UserWarning: \"`binary_crossentropy` received `from_logits=True`, but the `output` argument was produced by a sigmoid or softmax activation and thus does not represent logits. Was this intended?\"\n",
            "  '\"`binary_crossentropy` received `from_logits=True`, but the `output`'\n"
          ],
          "name": "stderr"
        },
        {
          "output_type": "stream",
          "text": [
            "24/24 [==============================] - 1s 16ms/step - loss: 0.3103 - accuracy: 0.9535\n",
            "Test loss: 0.31027594208717346\n",
            "Test accuracy: 0.9535192847251892\n"
          ],
          "name": "stdout"
        }
      ]
    }
  ]
}