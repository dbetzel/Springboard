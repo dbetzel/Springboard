{
  "nbformat": 4,
  "nbformat_minor": 0,
  "metadata": {
    "colab": {
      "name": "UDSCPart1.ipynb",
      "provenance": []
    },
    "kernelspec": {
      "name": "python3",
      "display_name": "Python 3"
    },
    "language_info": {
      "name": "python"
    }
  },
  "cells": [
    {
      "cell_type": "markdown",
      "metadata": {
        "id": "3llhDyWeuxfB"
      },
      "source": [
        "**Part 1 ‑ Exploratory data analysis**\n",
        "\n",
        "The attached logins.json file contains (simulated) timestamps of user logins in a particular\n",
        "geographic location. Aggregate these login counts based on 15­minute time intervals, and\n",
        "visualize and describe the resulting time series of login counts in ways that best characterize the\n",
        "underlying patterns of the demand. Please report/illustrate important features of the demand,\n",
        "such as daily cycles. If there are data quality issues, please report them."
      ]
    },
    {
      "cell_type": "code",
      "metadata": {
        "id": "TLlte_COa4Lb"
      },
      "source": [
        "import pandas as pd\n",
        "import numpy as np\n",
        "import matplotlib.pyplot as plt\n",
        "%matplotlib inline"
      ],
      "execution_count": 1,
      "outputs": []
    },
    {
      "cell_type": "code",
      "metadata": {
        "colab": {
          "base_uri": "https://localhost:8080/",
          "height": 204
        },
        "id": "oZ4Q_fUXbZtv",
        "outputId": "3614b5e0-651c-4559-d185-0d0a18d92a4d"
      },
      "source": [
        "# Read in the data\n",
        "dflogins = pd.read_json('logins.json')\n",
        "dflogins.head()"
      ],
      "execution_count": 4,
      "outputs": [
        {
          "output_type": "execute_result",
          "data": {
            "text/html": [
              "<div>\n",
              "<style scoped>\n",
              "    .dataframe tbody tr th:only-of-type {\n",
              "        vertical-align: middle;\n",
              "    }\n",
              "\n",
              "    .dataframe tbody tr th {\n",
              "        vertical-align: top;\n",
              "    }\n",
              "\n",
              "    .dataframe thead th {\n",
              "        text-align: right;\n",
              "    }\n",
              "</style>\n",
              "<table border=\"1\" class=\"dataframe\">\n",
              "  <thead>\n",
              "    <tr style=\"text-align: right;\">\n",
              "      <th></th>\n",
              "      <th>login_time</th>\n",
              "    </tr>\n",
              "  </thead>\n",
              "  <tbody>\n",
              "    <tr>\n",
              "      <th>0</th>\n",
              "      <td>1970-01-01 20:13:18</td>\n",
              "    </tr>\n",
              "    <tr>\n",
              "      <th>1</th>\n",
              "      <td>1970-01-01 20:16:10</td>\n",
              "    </tr>\n",
              "    <tr>\n",
              "      <th>2</th>\n",
              "      <td>1970-01-01 20:16:37</td>\n",
              "    </tr>\n",
              "    <tr>\n",
              "      <th>3</th>\n",
              "      <td>1970-01-01 20:16:36</td>\n",
              "    </tr>\n",
              "    <tr>\n",
              "      <th>4</th>\n",
              "      <td>1970-01-01 20:26:21</td>\n",
              "    </tr>\n",
              "  </tbody>\n",
              "</table>\n",
              "</div>"
            ],
            "text/plain": [
              "           login_time\n",
              "0 1970-01-01 20:13:18\n",
              "1 1970-01-01 20:16:10\n",
              "2 1970-01-01 20:16:37\n",
              "3 1970-01-01 20:16:36\n",
              "4 1970-01-01 20:26:21"
            ]
          },
          "metadata": {},
          "execution_count": 4
        }
      ]
    },
    {
      "cell_type": "code",
      "metadata": {
        "colab": {
          "base_uri": "https://localhost:8080/"
        },
        "id": "sjrKD5K8cY-W",
        "outputId": "6bf36c5a-f1a2-431e-b54e-eaad4739040e"
      },
      "source": [
        "logins = dflogins.sort_values(['login_time'], kind='mergesort', ascending=False)\n",
        "print(logins)"
      ],
      "execution_count": 6,
      "outputs": [
        {
          "output_type": "stream",
          "name": "stdout",
          "text": [
            "               login_time\n",
            "93140 1970-04-13 18:57:38\n",
            "93141 1970-04-13 18:54:23\n",
            "93139 1970-04-13 18:54:02\n",
            "93137 1970-04-13 18:50:19\n",
            "93136 1970-04-13 18:48:52\n",
            "...                   ...\n",
            "2     1970-01-01 20:16:37\n",
            "3     1970-01-01 20:16:36\n",
            "1     1970-01-01 20:16:10\n",
            "0     1970-01-01 20:13:18\n",
            "6     1970-01-01 20:12:16\n",
            "\n",
            "[93142 rows x 1 columns]\n"
          ]
        }
      ]
    },
    {
      "cell_type": "code",
      "metadata": {
        "colab": {
          "base_uri": "https://localhost:8080/"
        },
        "id": "uBe89azad7nk",
        "outputId": "bfa51732-aa16-49d0-d4d2-fc500f0be051"
      },
      "source": [
        "# data quality check\n",
        "dflogins.info()"
      ],
      "execution_count": 7,
      "outputs": [
        {
          "output_type": "stream",
          "name": "stdout",
          "text": [
            "<class 'pandas.core.frame.DataFrame'>\n",
            "RangeIndex: 93142 entries, 0 to 93141\n",
            "Data columns (total 1 columns):\n",
            " #   Column      Non-Null Count  Dtype         \n",
            "---  ------      --------------  -----         \n",
            " 0   login_time  93142 non-null  datetime64[ns]\n",
            "dtypes: datetime64[ns](1)\n",
            "memory usage: 727.8 KB\n"
          ]
        }
      ]
    },
    {
      "cell_type": "code",
      "metadata": {
        "id": "IvB_fbFehc3C"
      },
      "source": [
        "dflogins.set_index('login_time', inplace=True)\n",
        "dflogins['count'] = 1"
      ],
      "execution_count": 8,
      "outputs": []
    },
    {
      "cell_type": "code",
      "metadata": {
        "colab": {
          "base_uri": "https://localhost:8080/",
          "height": 235
        },
        "id": "XV5PD9bTj8OR",
        "outputId": "4b81bf45-915e-4225-9a3d-410872728cb2"
      },
      "source": [
        "# aggregate based on 15 minute time intervals\n",
        "df15min = dflogins.resample('15T', label='right').sum()\n",
        "df15min.head()"
      ],
      "execution_count": 9,
      "outputs": [
        {
          "output_type": "execute_result",
          "data": {
            "text/html": [
              "<div>\n",
              "<style scoped>\n",
              "    .dataframe tbody tr th:only-of-type {\n",
              "        vertical-align: middle;\n",
              "    }\n",
              "\n",
              "    .dataframe tbody tr th {\n",
              "        vertical-align: top;\n",
              "    }\n",
              "\n",
              "    .dataframe thead th {\n",
              "        text-align: right;\n",
              "    }\n",
              "</style>\n",
              "<table border=\"1\" class=\"dataframe\">\n",
              "  <thead>\n",
              "    <tr style=\"text-align: right;\">\n",
              "      <th></th>\n",
              "      <th>count</th>\n",
              "    </tr>\n",
              "    <tr>\n",
              "      <th>login_time</th>\n",
              "      <th></th>\n",
              "    </tr>\n",
              "  </thead>\n",
              "  <tbody>\n",
              "    <tr>\n",
              "      <th>1970-01-01 20:15:00</th>\n",
              "      <td>2</td>\n",
              "    </tr>\n",
              "    <tr>\n",
              "      <th>1970-01-01 20:30:00</th>\n",
              "      <td>6</td>\n",
              "    </tr>\n",
              "    <tr>\n",
              "      <th>1970-01-01 20:45:00</th>\n",
              "      <td>9</td>\n",
              "    </tr>\n",
              "    <tr>\n",
              "      <th>1970-01-01 21:00:00</th>\n",
              "      <td>7</td>\n",
              "    </tr>\n",
              "    <tr>\n",
              "      <th>1970-01-01 21:15:00</th>\n",
              "      <td>1</td>\n",
              "    </tr>\n",
              "  </tbody>\n",
              "</table>\n",
              "</div>"
            ],
            "text/plain": [
              "                     count\n",
              "login_time                \n",
              "1970-01-01 20:15:00      2\n",
              "1970-01-01 20:30:00      6\n",
              "1970-01-01 20:45:00      9\n",
              "1970-01-01 21:00:00      7\n",
              "1970-01-01 21:15:00      1"
            ]
          },
          "metadata": {},
          "execution_count": 9
        }
      ]
    },
    {
      "cell_type": "code",
      "metadata": {
        "colab": {
          "base_uri": "https://localhost:8080/"
        },
        "id": "L6VLGn5Fkr_C",
        "outputId": "be0fdb38-1019-4e7f-ff33-0dda5d06648e"
      },
      "source": [
        "logins15min = df15min.sort_values(['login_time'], kind='mergesort', ascending=False)\n",
        "print(logins15min)"
      ],
      "execution_count": 10,
      "outputs": [
        {
          "output_type": "stream",
          "name": "stdout",
          "text": [
            "                     count\n",
            "login_time                \n",
            "1970-04-13 19:00:00      6\n",
            "1970-04-13 18:45:00      7\n",
            "1970-04-13 18:30:00      2\n",
            "1970-04-13 18:15:00      5\n",
            "1970-04-13 18:00:00      5\n",
            "...                    ...\n",
            "1970-01-01 21:15:00      1\n",
            "1970-01-01 21:00:00      7\n",
            "1970-01-01 20:45:00      9\n",
            "1970-01-01 20:30:00      6\n",
            "1970-01-01 20:15:00      2\n",
            "\n",
            "[9788 rows x 1 columns]\n"
          ]
        }
      ]
    },
    {
      "cell_type": "code",
      "metadata": {
        "colab": {
          "base_uri": "https://localhost:8080/"
        },
        "id": "fphM0pTRlBnY",
        "outputId": "7dcf382d-c7b9-43af-eb25-b5f64db799b5"
      },
      "source": [
        "df15min.info()"
      ],
      "execution_count": 13,
      "outputs": [
        {
          "output_type": "stream",
          "name": "stdout",
          "text": [
            "<class 'pandas.core.frame.DataFrame'>\n",
            "DatetimeIndex: 9788 entries, 1970-01-01 20:15:00 to 1970-04-13 19:00:00\n",
            "Freq: 15T\n",
            "Data columns (total 1 columns):\n",
            " #   Column  Non-Null Count  Dtype\n",
            "---  ------  --------------  -----\n",
            " 0   count   9788 non-null   int64\n",
            "dtypes: int64(1)\n",
            "memory usage: 152.9 KB\n"
          ]
        }
      ]
    },
    {
      "cell_type": "code",
      "metadata": {
        "id": "ps_DmKhclXfT"
      },
      "source": [
        "# Filling missing value with 0\n",
        "df15min = df15min.fillna(0)"
      ],
      "execution_count": 14,
      "outputs": []
    },
    {
      "cell_type": "code",
      "metadata": {
        "colab": {
          "base_uri": "https://localhost:8080/"
        },
        "id": "hWcVZ0VWmauS",
        "outputId": "9ec47d6f-38aa-4686-9b73-8c5109da61e4"
      },
      "source": [
        "df15min.info()"
      ],
      "execution_count": 15,
      "outputs": [
        {
          "output_type": "stream",
          "name": "stdout",
          "text": [
            "<class 'pandas.core.frame.DataFrame'>\n",
            "DatetimeIndex: 9788 entries, 1970-01-01 20:15:00 to 1970-04-13 19:00:00\n",
            "Freq: 15T\n",
            "Data columns (total 1 columns):\n",
            " #   Column  Non-Null Count  Dtype\n",
            "---  ------  --------------  -----\n",
            " 0   count   9788 non-null   int64\n",
            "dtypes: int64(1)\n",
            "memory usage: 152.9 KB\n"
          ]
        }
      ]
    },
    {
      "cell_type": "code",
      "metadata": {
        "id": "WyKNRGDSmeTi"
      },
      "source": [
        "# Extract features from the dataset\n",
        "df15min['time'] = pd.to_datetime(df15min.index)"
      ],
      "execution_count": 16,
      "outputs": []
    },
    {
      "cell_type": "code",
      "metadata": {
        "colab": {
          "base_uri": "https://localhost:8080/"
        },
        "id": "Gk6CeTCVnEkK",
        "outputId": "d8575e91-5d77-4213-89c5-6a1f65a82ae9"
      },
      "source": [
        "df15min['month'] = df15min.time.dt.month\n",
        "df15min['day'] = df15min.time.dt.day\n",
        "df15min['hour'] = df15min.time.dt.hour\n",
        "df15min['week'] = df15min.time.dt.week"
      ],
      "execution_count": 18,
      "outputs": [
        {
          "output_type": "stream",
          "name": "stderr",
          "text": [
            "/usr/local/lib/python3.7/dist-packages/ipykernel_launcher.py:4: FutureWarning: Series.dt.weekofyear and Series.dt.week have been deprecated.  Please use Series.dt.isocalendar().week instead.\n",
            "  after removing the cwd from sys.path.\n"
          ]
        }
      ]
    },
    {
      "cell_type": "code",
      "metadata": {
        "colab": {
          "base_uri": "https://localhost:8080/",
          "height": 235
        },
        "id": "VRTosDxZntRc",
        "outputId": "a0be997f-d95b-4c23-a465-4373837f1f10"
      },
      "source": [
        "df15min.head()"
      ],
      "execution_count": 19,
      "outputs": [
        {
          "output_type": "execute_result",
          "data": {
            "text/html": [
              "<div>\n",
              "<style scoped>\n",
              "    .dataframe tbody tr th:only-of-type {\n",
              "        vertical-align: middle;\n",
              "    }\n",
              "\n",
              "    .dataframe tbody tr th {\n",
              "        vertical-align: top;\n",
              "    }\n",
              "\n",
              "    .dataframe thead th {\n",
              "        text-align: right;\n",
              "    }\n",
              "</style>\n",
              "<table border=\"1\" class=\"dataframe\">\n",
              "  <thead>\n",
              "    <tr style=\"text-align: right;\">\n",
              "      <th></th>\n",
              "      <th>count</th>\n",
              "      <th>time</th>\n",
              "      <th>month</th>\n",
              "      <th>day</th>\n",
              "      <th>hour</th>\n",
              "      <th>week</th>\n",
              "    </tr>\n",
              "    <tr>\n",
              "      <th>login_time</th>\n",
              "      <th></th>\n",
              "      <th></th>\n",
              "      <th></th>\n",
              "      <th></th>\n",
              "      <th></th>\n",
              "      <th></th>\n",
              "    </tr>\n",
              "  </thead>\n",
              "  <tbody>\n",
              "    <tr>\n",
              "      <th>1970-01-01 20:15:00</th>\n",
              "      <td>2</td>\n",
              "      <td>1970-01-01 20:15:00</td>\n",
              "      <td>1</td>\n",
              "      <td>1</td>\n",
              "      <td>20</td>\n",
              "      <td>1</td>\n",
              "    </tr>\n",
              "    <tr>\n",
              "      <th>1970-01-01 20:30:00</th>\n",
              "      <td>6</td>\n",
              "      <td>1970-01-01 20:30:00</td>\n",
              "      <td>1</td>\n",
              "      <td>1</td>\n",
              "      <td>20</td>\n",
              "      <td>1</td>\n",
              "    </tr>\n",
              "    <tr>\n",
              "      <th>1970-01-01 20:45:00</th>\n",
              "      <td>9</td>\n",
              "      <td>1970-01-01 20:45:00</td>\n",
              "      <td>1</td>\n",
              "      <td>1</td>\n",
              "      <td>20</td>\n",
              "      <td>1</td>\n",
              "    </tr>\n",
              "    <tr>\n",
              "      <th>1970-01-01 21:00:00</th>\n",
              "      <td>7</td>\n",
              "      <td>1970-01-01 21:00:00</td>\n",
              "      <td>1</td>\n",
              "      <td>1</td>\n",
              "      <td>21</td>\n",
              "      <td>1</td>\n",
              "    </tr>\n",
              "    <tr>\n",
              "      <th>1970-01-01 21:15:00</th>\n",
              "      <td>1</td>\n",
              "      <td>1970-01-01 21:15:00</td>\n",
              "      <td>1</td>\n",
              "      <td>1</td>\n",
              "      <td>21</td>\n",
              "      <td>1</td>\n",
              "    </tr>\n",
              "  </tbody>\n",
              "</table>\n",
              "</div>"
            ],
            "text/plain": [
              "                     count                time  month  day  hour  week\n",
              "login_time                                                            \n",
              "1970-01-01 20:15:00      2 1970-01-01 20:15:00      1    1    20     1\n",
              "1970-01-01 20:30:00      6 1970-01-01 20:30:00      1    1    20     1\n",
              "1970-01-01 20:45:00      9 1970-01-01 20:45:00      1    1    20     1\n",
              "1970-01-01 21:00:00      7 1970-01-01 21:00:00      1    1    21     1\n",
              "1970-01-01 21:15:00      1 1970-01-01 21:15:00      1    1    21     1"
            ]
          },
          "metadata": {},
          "execution_count": 19
        }
      ]
    },
    {
      "cell_type": "code",
      "metadata": {
        "colab": {
          "base_uri": "https://localhost:8080/"
        },
        "id": "r7Rknrw5n8JL",
        "outputId": "66bfe507-7cc3-49be-8109-56acb153fa2c"
      },
      "source": [
        "# Group by month\n",
        "print (df15min.groupby('month')['count'].aggregate(np.sum))"
      ],
      "execution_count": 20,
      "outputs": [
        {
          "output_type": "stream",
          "name": "stdout",
          "text": [
            "month\n",
            "1    21225\n",
            "2    24669\n",
            "3    33727\n",
            "4    13521\n",
            "Name: count, dtype: int64\n"
          ]
        }
      ]
    },
    {
      "cell_type": "code",
      "metadata": {
        "colab": {
          "base_uri": "https://localhost:8080/",
          "height": 312
        },
        "id": "mhpTH1gFomzQ",
        "outputId": "4a42361c-71ea-4d54-aab8-2b77594d65b9"
      },
      "source": [
        "df15min.groupby('month')['count'].sum().plot(kind='bar')\n",
        "plt.title(\"Login Number of Month\")\n",
        "plt.xlabel(\"Month\")\n",
        "plt.ylabel(\"Number of logins\")\n",
        "plt.xticks(rotation=0)"
      ],
      "execution_count": 21,
      "outputs": [
        {
          "output_type": "execute_result",
          "data": {
            "text/plain": [
              "(array([0, 1, 2, 3]), <a list of 4 Text major ticklabel objects>)"
            ]
          },
          "metadata": {},
          "execution_count": 21
        },
        {
          "output_type": "display_data",
          "data": {
            "image/png": "[encoded data removed]",
            "text/plain": [
              "<Figure size 432x288 with 1 Axes>"
            ]
          },
          "metadata": {
            "needs_background": "light"
          }
        }
      ]
    },
    {
      "cell_type": "code",
      "metadata": {
        "colab": {
          "base_uri": "https://localhost:8080/"
        },
        "id": "zDLCF-oErGox",
        "outputId": "dfdd7d81-7e5e-4b01-af87-37da8549c6a4"
      },
      "source": [
        "print (df15min.groupby('week')['count'].aggregate(np.sum))"
      ],
      "execution_count": 22,
      "outputs": [
        {
          "output_type": "stream",
          "name": "stdout",
          "text": [
            "week\n",
            "1     2368\n",
            "2     5218\n",
            "3     5021\n",
            "4     4750\n",
            "5     4747\n",
            "6     5564\n",
            "7     5914\n",
            "8     7038\n",
            "9     6554\n",
            "10    7400\n",
            "11    7329\n",
            "12    8959\n",
            "13    7284\n",
            "14    8096\n",
            "15    6496\n",
            "16     404\n",
            "Name: count, dtype: int64\n"
          ]
        }
      ]
    },
    {
      "cell_type": "code",
      "metadata": {
        "colab": {
          "base_uri": "https://localhost:8080/",
          "height": 329
        },
        "id": "Zoy6WcYhrZQ6",
        "outputId": "78bd5074-508d-4222-9b02-dfc369cb0f46"
      },
      "source": [
        "df15min.groupby('week')['count'].sum().plot(kind='bar')\n",
        "plt.title(\"Login Number of Week\")\n",
        "plt.xlabel(\"Week\")\n",
        "plt.ylabel(\"Number of logins\")\n",
        "plt.xticks(rotation=0)"
      ],
      "execution_count": 23,
      "outputs": [
        {
          "output_type": "execute_result",
          "data": {
            "text/plain": [
              "(array([ 0,  1,  2,  3,  4,  5,  6,  7,  8,  9, 10, 11, 12, 13, 14, 15]),\n",
              " <a list of 16 Text major ticklabel objects>)"
            ]
          },
          "metadata": {},
          "execution_count": 23
        },
        {
          "output_type": "display_data",
          "data": {
            "image/png": "[encoded data removed]",
            "text/plain": [
              "<Figure size 432x288 with 1 Axes>"
            ]
          },
          "metadata": {
            "needs_background": "light"
          }
        }
      ]
    },
    {
      "cell_type": "code",
      "metadata": {
        "colab": {
          "base_uri": "https://localhost:8080/",
          "height": 235
        },
        "id": "qP3DYoJErgIK",
        "outputId": "2f155d15-3e27-4aba-89f7-906ec0c036e4"
      },
      "source": [
        "# Aggregate login counts based on 1 day time intervals\n",
        "df_day = dflogins.resample('D').sum()\n",
        "df_day.head()"
      ],
      "execution_count": 24,
      "outputs": [
        {
          "output_type": "execute_result",
          "data": {
            "text/html": [
              "<div>\n",
              "<style scoped>\n",
              "    .dataframe tbody tr th:only-of-type {\n",
              "        vertical-align: middle;\n",
              "    }\n",
              "\n",
              "    .dataframe tbody tr th {\n",
              "        vertical-align: top;\n",
              "    }\n",
              "\n",
              "    .dataframe thead th {\n",
              "        text-align: right;\n",
              "    }\n",
              "</style>\n",
              "<table border=\"1\" class=\"dataframe\">\n",
              "  <thead>\n",
              "    <tr style=\"text-align: right;\">\n",
              "      <th></th>\n",
              "      <th>count</th>\n",
              "    </tr>\n",
              "    <tr>\n",
              "      <th>login_time</th>\n",
              "      <th></th>\n",
              "    </tr>\n",
              "  </thead>\n",
              "  <tbody>\n",
              "    <tr>\n",
              "      <th>1970-01-01</th>\n",
              "      <td>112</td>\n",
              "    </tr>\n",
              "    <tr>\n",
              "      <th>1970-01-02</th>\n",
              "      <td>681</td>\n",
              "    </tr>\n",
              "    <tr>\n",
              "      <th>1970-01-03</th>\n",
              "      <td>793</td>\n",
              "    </tr>\n",
              "    <tr>\n",
              "      <th>1970-01-04</th>\n",
              "      <td>788</td>\n",
              "    </tr>\n",
              "    <tr>\n",
              "      <th>1970-01-05</th>\n",
              "      <td>459</td>\n",
              "    </tr>\n",
              "  </tbody>\n",
              "</table>\n",
              "</div>"
            ],
            "text/plain": [
              "            count\n",
              "login_time       \n",
              "1970-01-01    112\n",
              "1970-01-02    681\n",
              "1970-01-03    793\n",
              "1970-01-04    788\n",
              "1970-01-05    459"
            ]
          },
          "metadata": {},
          "execution_count": 24
        }
      ]
    },
    {
      "cell_type": "code",
      "metadata": {
        "colab": {
          "base_uri": "https://localhost:8080/",
          "height": 235
        },
        "id": "tVXX5L1HsISq",
        "outputId": "61707d02-d065-4851-9abd-a488bb1c5641"
      },
      "source": [
        "df_day['date'] = pd.to_datetime(df_day.index)\n",
        "df_day['weekday'] = df_day.date.dt.weekday\n",
        "df_day.head()"
      ],
      "execution_count": 25,
      "outputs": [
        {
          "output_type": "execute_result",
          "data": {
            "text/html": [
              "<div>\n",
              "<style scoped>\n",
              "    .dataframe tbody tr th:only-of-type {\n",
              "        vertical-align: middle;\n",
              "    }\n",
              "\n",
              "    .dataframe tbody tr th {\n",
              "        vertical-align: top;\n",
              "    }\n",
              "\n",
              "    .dataframe thead th {\n",
              "        text-align: right;\n",
              "    }\n",
              "</style>\n",
              "<table border=\"1\" class=\"dataframe\">\n",
              "  <thead>\n",
              "    <tr style=\"text-align: right;\">\n",
              "      <th></th>\n",
              "      <th>count</th>\n",
              "      <th>date</th>\n",
              "      <th>weekday</th>\n",
              "    </tr>\n",
              "    <tr>\n",
              "      <th>login_time</th>\n",
              "      <th></th>\n",
              "      <th></th>\n",
              "      <th></th>\n",
              "    </tr>\n",
              "  </thead>\n",
              "  <tbody>\n",
              "    <tr>\n",
              "      <th>1970-01-01</th>\n",
              "      <td>112</td>\n",
              "      <td>1970-01-01</td>\n",
              "      <td>3</td>\n",
              "    </tr>\n",
              "    <tr>\n",
              "      <th>1970-01-02</th>\n",
              "      <td>681</td>\n",
              "      <td>1970-01-02</td>\n",
              "      <td>4</td>\n",
              "    </tr>\n",
              "    <tr>\n",
              "      <th>1970-01-03</th>\n",
              "      <td>793</td>\n",
              "      <td>1970-01-03</td>\n",
              "      <td>5</td>\n",
              "    </tr>\n",
              "    <tr>\n",
              "      <th>1970-01-04</th>\n",
              "      <td>788</td>\n",
              "      <td>1970-01-04</td>\n",
              "      <td>6</td>\n",
              "    </tr>\n",
              "    <tr>\n",
              "      <th>1970-01-05</th>\n",
              "      <td>459</td>\n",
              "      <td>1970-01-05</td>\n",
              "      <td>0</td>\n",
              "    </tr>\n",
              "  </tbody>\n",
              "</table>\n",
              "</div>"
            ],
            "text/plain": [
              "            count       date  weekday\n",
              "login_time                           \n",
              "1970-01-01    112 1970-01-01        3\n",
              "1970-01-02    681 1970-01-02        4\n",
              "1970-01-03    793 1970-01-03        5\n",
              "1970-01-04    788 1970-01-04        6\n",
              "1970-01-05    459 1970-01-05        0"
            ]
          },
          "metadata": {},
          "execution_count": 25
        }
      ]
    },
    {
      "cell_type": "code",
      "metadata": {
        "colab": {
          "base_uri": "https://localhost:8080/",
          "height": 452
        },
        "id": "U0p0YVcQsOTL",
        "outputId": "07036356-7758-4141-b000-1a57119e3fdb"
      },
      "source": [
        "import seaborn as sns\n",
        "import calendar\n",
        "ax = sns.boxplot(x='weekday', y='count', data=df_day)\n",
        "plt.title(\"Login Number of Weekday\")\n",
        "plt.xlabel(\"Weekday\")\n",
        "plt.ylabel(\"Number of logins\")\n",
        "plt.xticks(rotation=45)\n",
        "ax.set_xticklabels([calendar.day_name[d] for d in range(7)])"
      ],
      "execution_count": 27,
      "outputs": [
        {
          "output_type": "execute_result",
          "data": {
            "text/plain": [
              "[Text(0, 0, 'Monday'),\n",
              " Text(0, 0, 'Tuesday'),\n",
              " Text(0, 0, 'Wednesday'),\n",
              " Text(0, 0, 'Thursday'),\n",
              " Text(0, 0, 'Friday'),\n",
              " Text(0, 0, 'Saturday'),\n",
              " Text(0, 0, 'Sunday')]"
            ]
          },
          "metadata": {},
          "execution_count": 27
        },
        {
          "output_type": "display_data",
          "data": {
            "image/png": "[encoded data removed]",
            "text/plain": [
              "<Figure size 432x288 with 1 Axes>"
            ]
          },
          "metadata": {
            "needs_background": "light"
          }
        }
      ]
    },
    {
      "cell_type": "code",
      "metadata": {
        "colab": {
          "base_uri": "https://localhost:8080/",
          "height": 401
        },
        "id": "f80SESmKsVU6",
        "outputId": "1e5e311c-016b-4bbe-836f-b7b0481913dc"
      },
      "source": [
        "# Group by hour\n",
        "nday = 30+28+30+13   # total days\n",
        "(df15min.groupby('hour')['count'].sum()/nday).plot(kind='bar', figsize=(10,5))\n",
        "plt.title(\"Average Login Number of Hour\")\n",
        "plt.xlabel(\"Hour\")\n",
        "plt.ylabel(\"Number of logins\")\n",
        "plt.xticks(rotation=0)"
      ],
      "execution_count": 29,
      "outputs": [
        {
          "output_type": "execute_result",
          "data": {
            "text/plain": [
              "(array([ 0,  1,  2,  3,  4,  5,  6,  7,  8,  9, 10, 11, 12, 13, 14, 15, 16,\n",
              "        17, 18, 19, 20, 21, 22, 23]),\n",
              " <a list of 24 Text major ticklabel objects>)"
            ]
          },
          "metadata": {},
          "execution_count": 29
        },
        {
          "output_type": "display_data",
          "data": {
            "image/png": "[encoded data removed]",
            "text/plain": [
              "<Figure size 720x360 with 1 Axes>"
            ]
          },
          "metadata": {
            "needs_background": "light"
          }
        }
      ]
    },
    {
      "cell_type": "code",
      "metadata": {
        "colab": {
          "base_uri": "https://localhost:8080/",
          "height": 235
        },
        "id": "ApTi0lT8snMr",
        "outputId": "ba54df98-86f2-493d-b901-98a9c9dfad60"
      },
      "source": [
        "# Aggregate login counts based on 1-hour time intervals\n",
        "df_hour = dflogins.resample('H').sum()\n",
        "df_hour.head()"
      ],
      "execution_count": 30,
      "outputs": [
        {
          "output_type": "execute_result",
          "data": {
            "text/html": [
              "<div>\n",
              "<style scoped>\n",
              "    .dataframe tbody tr th:only-of-type {\n",
              "        vertical-align: middle;\n",
              "    }\n",
              "\n",
              "    .dataframe tbody tr th {\n",
              "        vertical-align: top;\n",
              "    }\n",
              "\n",
              "    .dataframe thead th {\n",
              "        text-align: right;\n",
              "    }\n",
              "</style>\n",
              "<table border=\"1\" class=\"dataframe\">\n",
              "  <thead>\n",
              "    <tr style=\"text-align: right;\">\n",
              "      <th></th>\n",
              "      <th>count</th>\n",
              "    </tr>\n",
              "    <tr>\n",
              "      <th>login_time</th>\n",
              "      <th></th>\n",
              "    </tr>\n",
              "  </thead>\n",
              "  <tbody>\n",
              "    <tr>\n",
              "      <th>1970-01-01 20:00:00</th>\n",
              "      <td>24</td>\n",
              "    </tr>\n",
              "    <tr>\n",
              "      <th>1970-01-01 21:00:00</th>\n",
              "      <td>9</td>\n",
              "    </tr>\n",
              "    <tr>\n",
              "      <th>1970-01-01 22:00:00</th>\n",
              "      <td>21</td>\n",
              "    </tr>\n",
              "    <tr>\n",
              "      <th>1970-01-01 23:00:00</th>\n",
              "      <td>58</td>\n",
              "    </tr>\n",
              "    <tr>\n",
              "      <th>1970-01-02 00:00:00</th>\n",
              "      <td>53</td>\n",
              "    </tr>\n",
              "  </tbody>\n",
              "</table>\n",
              "</div>"
            ],
            "text/plain": [
              "                     count\n",
              "login_time                \n",
              "1970-01-01 20:00:00     24\n",
              "1970-01-01 21:00:00      9\n",
              "1970-01-01 22:00:00     21\n",
              "1970-01-01 23:00:00     58\n",
              "1970-01-02 00:00:00     53"
            ]
          },
          "metadata": {},
          "execution_count": 30
        }
      ]
    },
    {
      "cell_type": "code",
      "metadata": {
        "colab": {
          "base_uri": "https://localhost:8080/",
          "height": 235
        },
        "id": "OV3dDylRs-ii",
        "outputId": "cf6f9144-ab86-4972-a52f-a2d9f1d31fe5"
      },
      "source": [
        "df_hour['time'] = pd.to_datetime(df_hour.index)\n",
        "df_hour['hour'] = df_hour.time.dt.hour\n",
        "df_hour.head()"
      ],
      "execution_count": 31,
      "outputs": [
        {
          "output_type": "execute_result",
          "data": {
            "text/html": [
              "<div>\n",
              "<style scoped>\n",
              "    .dataframe tbody tr th:only-of-type {\n",
              "        vertical-align: middle;\n",
              "    }\n",
              "\n",
              "    .dataframe tbody tr th {\n",
              "        vertical-align: top;\n",
              "    }\n",
              "\n",
              "    .dataframe thead th {\n",
              "        text-align: right;\n",
              "    }\n",
              "</style>\n",
              "<table border=\"1\" class=\"dataframe\">\n",
              "  <thead>\n",
              "    <tr style=\"text-align: right;\">\n",
              "      <th></th>\n",
              "      <th>count</th>\n",
              "      <th>time</th>\n",
              "      <th>hour</th>\n",
              "    </tr>\n",
              "    <tr>\n",
              "      <th>login_time</th>\n",
              "      <th></th>\n",
              "      <th></th>\n",
              "      <th></th>\n",
              "    </tr>\n",
              "  </thead>\n",
              "  <tbody>\n",
              "    <tr>\n",
              "      <th>1970-01-01 20:00:00</th>\n",
              "      <td>24</td>\n",
              "      <td>1970-01-01 20:00:00</td>\n",
              "      <td>20</td>\n",
              "    </tr>\n",
              "    <tr>\n",
              "      <th>1970-01-01 21:00:00</th>\n",
              "      <td>9</td>\n",
              "      <td>1970-01-01 21:00:00</td>\n",
              "      <td>21</td>\n",
              "    </tr>\n",
              "    <tr>\n",
              "      <th>1970-01-01 22:00:00</th>\n",
              "      <td>21</td>\n",
              "      <td>1970-01-01 22:00:00</td>\n",
              "      <td>22</td>\n",
              "    </tr>\n",
              "    <tr>\n",
              "      <th>1970-01-01 23:00:00</th>\n",
              "      <td>58</td>\n",
              "      <td>1970-01-01 23:00:00</td>\n",
              "      <td>23</td>\n",
              "    </tr>\n",
              "    <tr>\n",
              "      <th>1970-01-02 00:00:00</th>\n",
              "      <td>53</td>\n",
              "      <td>1970-01-02 00:00:00</td>\n",
              "      <td>0</td>\n",
              "    </tr>\n",
              "  </tbody>\n",
              "</table>\n",
              "</div>"
            ],
            "text/plain": [
              "                     count                time  hour\n",
              "login_time                                          \n",
              "1970-01-01 20:00:00     24 1970-01-01 20:00:00    20\n",
              "1970-01-01 21:00:00      9 1970-01-01 21:00:00    21\n",
              "1970-01-01 22:00:00     21 1970-01-01 22:00:00    22\n",
              "1970-01-01 23:00:00     58 1970-01-01 23:00:00    23\n",
              "1970-01-02 00:00:00     53 1970-01-02 00:00:00     0"
            ]
          },
          "metadata": {},
          "execution_count": 31
        }
      ]
    },
    {
      "cell_type": "code",
      "metadata": {
        "colab": {
          "base_uri": "https://localhost:8080/",
          "height": 401
        },
        "id": "iabttHX7tFVT",
        "outputId": "f5c1a308-344d-4dda-b928-a9234fdce84b"
      },
      "source": [
        "sns.mpl.rc(\"figure\", figsize=(10,5))\n",
        "sns.boxplot(x='hour', y='count', data=df_hour)\n",
        "plt.title(\"Login Number of Hour\")\n",
        "plt.xlabel(\"Hour\")\n",
        "plt.ylabel(\"Number of logins\")\n",
        "plt.xticks(rotation=0)"
      ],
      "execution_count": 32,
      "outputs": [
        {
          "output_type": "execute_result",
          "data": {
            "text/plain": [
              "(array([ 0,  1,  2,  3,  4,  5,  6,  7,  8,  9, 10, 11, 12, 13, 14, 15, 16,\n",
              "        17, 18, 19, 20, 21, 22, 23]),\n",
              " <a list of 24 Text major ticklabel objects>)"
            ]
          },
          "metadata": {},
          "execution_count": 32
        },
        {
          "output_type": "display_data",
          "data": {
            "image/png": "[encoded data removed]",
            "text/plain": [
              "<Figure size 720x360 with 1 Axes>"
            ]
          },
          "metadata": {
            "needs_background": "light"
          }
        }
      ]
    },
    {
      "cell_type": "markdown",
      "metadata": {
        "id": "eOrnv5ATtNjB"
      },
      "source": [
        "**Conclusions:**\n",
        "\n",
        "Login counts increase from January to March and reached the highest amount in March.\n",
        "\n",
        "In a week's time, login counts rised and droped a little. Logins in week 12 are the most. It is the last week of March. Logins in week 14 are the second most. It is the second week of April.\n",
        "\n",
        "Login increase from Monday to Saturday. There are more logins on weekends than there are on weekdays. Logins on Saturday are the most, and logins on Sunday run second, and logins on Friday are the third. Login numbers on weekends varied most.\n",
        "\n",
        "There are more logins at night. 10 PM to 2 AM seems to be the peak. Least logins in the moring. There are more logins at noon than in the afternoon. Login counts varied most from 2 AM to 4 AM."
      ]
    }
  ]
}